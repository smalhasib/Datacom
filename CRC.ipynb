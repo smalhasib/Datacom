{
 "cells": [
  {
   "cell_type": "code",
   "execution_count": 4,
   "metadata": {},
   "outputs": [],
   "source": [
    "def encodeData(data, key):\n",
    "    l_key = len(key)\n",
    "    temp = data.ljust(len(data)+l_key-1, \"0\")\n",
    "    temp = list(temp)\n",
    "    l_temp = len(temp)\n",
    "    for i in range(l_temp):\n",
    "        if (temp[i] == '0'):\n",
    "            continue\n",
    "        if (l_key + i <= l_temp):\n",
    "            for j in range(l_key):\n",
    "                temp[i+j] = str(int(temp[i+j]) ^ int(key[j]))\n",
    "        else:\n",
    "            break\n",
    "    temp = ''.join(temp)\n",
    "    reminder = temp[l_temp-l_key+1:l_temp]\n",
    "    encoded = data+reminder\n",
    "    return encoded"
   ]
  },
  {
   "cell_type": "code",
   "execution_count": 10,
   "metadata": {},
   "outputs": [],
   "source": [
    "# return true if there is no error else false\n",
    "def decodeData(data, key):\n",
    "    data = list(data)\n",
    "    for i in range(len(data)):\n",
    "        if (data[i] == '0'):\n",
    "            continue\n",
    "        if (len(key)+i <= len(data)):\n",
    "            for j in range(len(key)):\n",
    "                data[i+j] = str(int(data[i+j]) ^ int(key[j]))\n",
    "        else:\n",
    "            break\n",
    "    return all(v == '0' for v in data)"
   ]
  },
  {
   "cell_type": "code",
   "execution_count": 11,
   "metadata": {},
   "outputs": [
    {
     "name": "stdout",
     "output_type": "stream",
     "text": [
      "11100010001110\n",
      "True\n"
     ]
    }
   ],
   "source": [
    "data, key = \"11100010001\", \"1011\"\n",
    "encoded = encodeData(data, key)\n",
    "print(encoded)\n",
    "decoded = decodeData(encoded, key)\n",
    "print(decoded)"
   ]
  }
 ],
 "metadata": {
  "language_info": {
   "name": "python"
  },
  "orig_nbformat": 4
 },
 "nbformat": 4,
 "nbformat_minor": 2
}
