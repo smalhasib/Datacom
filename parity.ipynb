{
 "cells": [
  {
   "cell_type": "code",
   "execution_count": 3,
   "metadata": {},
   "outputs": [],
   "source": [
    "def encodeData(data, row, col):\n",
    "    temp = []\n",
    "    for i in range(row):\n",
    "        a = []\n",
    "        c = 0\n",
    "        for j in range(col):\n",
    "            a.append(data[i][j])\n",
    "            c = c ^ data[i][j]\n",
    "        a.append(c)\n",
    "        temp.append(a)\n",
    "    temp.append([])\n",
    "    for j in range(col+1):\n",
    "        c = 0\n",
    "        for i in range(row):\n",
    "            c = c ^ temp[i][j]\n",
    "        temp[row].append(c)\n",
    "    return temp\n"
   ]
  },
  {
   "cell_type": "code",
   "execution_count": 6,
   "metadata": {},
   "outputs": [],
   "source": [
    "# return true if there is no error else false\n",
    "def decodeData(data, row, col):\n",
    "    for i in range(row):\n",
    "        c = 0\n",
    "        for j in range(col+1):\n",
    "            c = c ^ data[i][j]\n",
    "        if (c == 1):\n",
    "            return False\n",
    "    for j in range(col):\n",
    "        c = 0\n",
    "        for i in range(row+1):\n",
    "            c = c ^ data[i][j]\n",
    "        if (c == 1):\n",
    "            return False\n",
    "    return True\n"
   ]
  },
  {
   "cell_type": "code",
   "execution_count": 7,
   "metadata": {},
   "outputs": [
    {
     "name": "stdout",
     "output_type": "stream",
     "text": [
      "[[1, 1, 0, 0, 1, 1, 0, 1, 1], [1, 1, 1, 1, 0, 0, 0, 1, 1], [0, 0, 1, 1, 1, 1, 0, 1, 1], [1, 0, 1, 0, 1, 1, 0, 0, 0], [1, 0, 1, 0, 1, 1, 0, 1, 1]]\n",
      "True\n"
     ]
    }
   ],
   "source": [
    "data = [[1,1,0,0,1,1,0,1],[1,1,1,1,0,0,0,1],[0,0,1,1,1,1,0,1],[1,0,1,0,1,1,0,0]]\n",
    "encoded = encodeData(data, 4, 8)\n",
    "print(encoded)\n",
    "decoded = decodeData(encoded, 4, 8)\n",
    "print(decoded)"
   ]
  }
 ],
 "metadata": {
  "kernelspec": {
   "display_name": "Python 3.10.5 64-bit",
   "language": "python",
   "name": "python3"
  },
  "language_info": {
   "codemirror_mode": {
    "name": "ipython",
    "version": 3
   },
   "file_extension": ".py",
   "mimetype": "text/x-python",
   "name": "python",
   "nbconvert_exporter": "python",
   "pygments_lexer": "ipython3",
   "version": "3.10.5"
  },
  "orig_nbformat": 4,
  "vscode": {
   "interpreter": {
    "hash": "6e95cdc8dae0a117de781a57d774433877e38e9823f7a5fe531546f707a97909"
   }
  }
 },
 "nbformat": 4,
 "nbformat_minor": 2
}
